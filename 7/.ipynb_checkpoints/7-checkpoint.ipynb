{
 "cells": [
  {
   "cell_type": "code",
   "execution_count": 1,
   "id": "155b91b6",
   "metadata": {},
   "outputs": [],
   "source": [
    "import pandas as pd\n",
    "import numpy as np\n",
    "import datetime\n",
    "import matplotlib.pyplot as plt\n",
    "import seaborn as sns\n",
    "%matplotlib inline"
   ]
  },
  {
   "cell_type": "markdown",
   "id": "f1f09804",
   "metadata": {},
   "source": [
    "## Что за данные?!\n",
    "\n",
    "Данные собраны из официального Google Play Market-а и включают в себя информацию о части приложений из разных категорий, с разным рейтингом и целевой аудиторией. Всего на одно приложение/игру - 13 характеристик. Сначала загрузим и выведем данные, чтобы посмотреть что вообще мы можем с ними сделать."
   ]
  },
  {
   "cell_type": "markdown",
   "id": "927fc4a9",
   "metadata": {},
   "source": [
    "Ссылка на данные: https://www.kaggle.com/lava18/google-play-store-apps"
   ]
  },
  {
   "cell_type": "code",
   "execution_count": 2,
   "id": "9d36e060",
   "metadata": {},
   "outputs": [],
   "source": [
    "df = pd.read_csv('googleplaystore.csv')"
   ]
  },
  {
   "cell_type": "code",
   "execution_count": 3,
   "id": "ccd55d44",
   "metadata": {},
   "outputs": [
    {
     "data": {
      "text/html": [
       "<div>\n",
       "<style scoped>\n",
       "    .dataframe tbody tr th:only-of-type {\n",
       "        vertical-align: middle;\n",
       "    }\n",
       "\n",
       "    .dataframe tbody tr th {\n",
       "        vertical-align: top;\n",
       "    }\n",
       "\n",
       "    .dataframe thead th {\n",
       "        text-align: right;\n",
       "    }\n",
       "</style>\n",
       "<table border=\"1\" class=\"dataframe\">\n",
       "  <thead>\n",
       "    <tr style=\"text-align: right;\">\n",
       "      <th></th>\n",
       "      <th>App</th>\n",
       "      <th>Category</th>\n",
       "      <th>Rating</th>\n",
       "      <th>Reviews</th>\n",
       "      <th>Size</th>\n",
       "      <th>Installs</th>\n",
       "      <th>Type</th>\n",
       "      <th>Price</th>\n",
       "      <th>Content Rating</th>\n",
       "      <th>Genres</th>\n",
       "      <th>Last Updated</th>\n",
       "      <th>Current Ver</th>\n",
       "      <th>Android Ver</th>\n",
       "    </tr>\n",
       "  </thead>\n",
       "  <tbody>\n",
       "    <tr>\n",
       "      <th>0</th>\n",
       "      <td>Photo Editor &amp; Candy Camera &amp; Grid &amp; ScrapBook</td>\n",
       "      <td>ART_AND_DESIGN</td>\n",
       "      <td>4.1</td>\n",
       "      <td>159</td>\n",
       "      <td>19M</td>\n",
       "      <td>10,000+</td>\n",
       "      <td>Free</td>\n",
       "      <td>0</td>\n",
       "      <td>Everyone</td>\n",
       "      <td>Art &amp; Design</td>\n",
       "      <td>January 7, 2018</td>\n",
       "      <td>1.0.0</td>\n",
       "      <td>4.0.3 and up</td>\n",
       "    </tr>\n",
       "    <tr>\n",
       "      <th>1</th>\n",
       "      <td>Coloring book moana</td>\n",
       "      <td>ART_AND_DESIGN</td>\n",
       "      <td>3.9</td>\n",
       "      <td>967</td>\n",
       "      <td>14M</td>\n",
       "      <td>500,000+</td>\n",
       "      <td>Free</td>\n",
       "      <td>0</td>\n",
       "      <td>Everyone</td>\n",
       "      <td>Art &amp; Design;Pretend Play</td>\n",
       "      <td>January 15, 2018</td>\n",
       "      <td>2.0.0</td>\n",
       "      <td>4.0.3 and up</td>\n",
       "    </tr>\n",
       "    <tr>\n",
       "      <th>2</th>\n",
       "      <td>U Launcher Lite – FREE Live Cool Themes, Hide ...</td>\n",
       "      <td>ART_AND_DESIGN</td>\n",
       "      <td>4.7</td>\n",
       "      <td>87510</td>\n",
       "      <td>8.7M</td>\n",
       "      <td>5,000,000+</td>\n",
       "      <td>Free</td>\n",
       "      <td>0</td>\n",
       "      <td>Everyone</td>\n",
       "      <td>Art &amp; Design</td>\n",
       "      <td>August 1, 2018</td>\n",
       "      <td>1.2.4</td>\n",
       "      <td>4.0.3 and up</td>\n",
       "    </tr>\n",
       "  </tbody>\n",
       "</table>\n",
       "</div>"
      ],
      "text/plain": [
       "                                                 App        Category  Rating  \\\n",
       "0     Photo Editor & Candy Camera & Grid & ScrapBook  ART_AND_DESIGN     4.1   \n",
       "1                                Coloring book moana  ART_AND_DESIGN     3.9   \n",
       "2  U Launcher Lite – FREE Live Cool Themes, Hide ...  ART_AND_DESIGN     4.7   \n",
       "\n",
       "  Reviews  Size    Installs  Type Price Content Rating  \\\n",
       "0     159   19M     10,000+  Free     0       Everyone   \n",
       "1     967   14M    500,000+  Free     0       Everyone   \n",
       "2   87510  8.7M  5,000,000+  Free     0       Everyone   \n",
       "\n",
       "                      Genres      Last Updated Current Ver   Android Ver  \n",
       "0               Art & Design   January 7, 2018       1.0.0  4.0.3 and up  \n",
       "1  Art & Design;Pretend Play  January 15, 2018       2.0.0  4.0.3 and up  \n",
       "2               Art & Design    August 1, 2018       1.2.4  4.0.3 and up  "
      ]
     },
     "execution_count": 3,
     "metadata": {},
     "output_type": "execute_result"
    }
   ],
   "source": [
    "df.head(3)"
   ]
  },
  {
   "cell_type": "code",
   "execution_count": 4,
   "id": "d582c778",
   "metadata": {},
   "outputs": [
    {
     "name": "stdout",
     "output_type": "stream",
     "text": [
      "<class 'pandas.core.frame.DataFrame'>\n",
      "RangeIndex: 10841 entries, 0 to 10840\n",
      "Data columns (total 13 columns):\n",
      " #   Column          Non-Null Count  Dtype  \n",
      "---  ------          --------------  -----  \n",
      " 0   App             10841 non-null  object \n",
      " 1   Category        10841 non-null  object \n",
      " 2   Rating          9367 non-null   float64\n",
      " 3   Reviews         10841 non-null  object \n",
      " 4   Size            10841 non-null  object \n",
      " 5   Installs        10841 non-null  object \n",
      " 6   Type            10840 non-null  object \n",
      " 7   Price           10841 non-null  object \n",
      " 8   Content Rating  10840 non-null  object \n",
      " 9   Genres          10841 non-null  object \n",
      " 10  Last Updated    10841 non-null  object \n",
      " 11  Current Ver     10833 non-null  object \n",
      " 12  Android Ver     10838 non-null  object \n",
      "dtypes: float64(1), object(12)\n",
      "memory usage: 1.1+ MB\n"
     ]
    }
   ],
   "source": [
    "df.info()"
   ]
  },
  {
   "cell_type": "markdown",
   "id": "737be33e",
   "metadata": {},
   "source": [
    "Видим, что в данных есть пропуски и больше всего их в категории \"рейтинг\", наверное, наиболее интересной для нас, ведь по большой части только по ней можем определить \"хорошесть\" приложения, и удалять порядка 10% выборки тоже не хочется, нужно будет подумать что с этим делать. Но прежде нужно проверить данные на адекватность, проверить нет ли дупликатов."
   ]
  },
  {
   "cell_type": "code",
   "execution_count": 5,
   "id": "ca9e152a",
   "metadata": {},
   "outputs": [
    {
     "name": "stdout",
     "output_type": "stream",
     "text": [
      "Всего уникальных приложений:  9660\n"
     ]
    }
   ],
   "source": [
    "print(\"Всего уникальных приложений: \", df.App.nunique())"
   ]
  },
  {
   "cell_type": "code",
   "execution_count": 6,
   "id": "847383a1",
   "metadata": {},
   "outputs": [
    {
     "data": {
      "text/html": [
       "<div>\n",
       "<style scoped>\n",
       "    .dataframe tbody tr th:only-of-type {\n",
       "        vertical-align: middle;\n",
       "    }\n",
       "\n",
       "    .dataframe tbody tr th {\n",
       "        vertical-align: top;\n",
       "    }\n",
       "\n",
       "    .dataframe thead th {\n",
       "        text-align: right;\n",
       "    }\n",
       "</style>\n",
       "<table border=\"1\" class=\"dataframe\">\n",
       "  <thead>\n",
       "    <tr style=\"text-align: right;\">\n",
       "      <th></th>\n",
       "      <th>App</th>\n",
       "      <th>Category</th>\n",
       "      <th>Rating</th>\n",
       "      <th>Reviews</th>\n",
       "      <th>Size</th>\n",
       "      <th>Installs</th>\n",
       "      <th>Type</th>\n",
       "      <th>Price</th>\n",
       "      <th>Content Rating</th>\n",
       "      <th>Genres</th>\n",
       "      <th>Last Updated</th>\n",
       "      <th>Current Ver</th>\n",
       "      <th>Android Ver</th>\n",
       "    </tr>\n",
       "  </thead>\n",
       "  <tbody>\n",
       "    <tr>\n",
       "      <th>1</th>\n",
       "      <td>Coloring book moana</td>\n",
       "      <td>ART_AND_DESIGN</td>\n",
       "      <td>3.9</td>\n",
       "      <td>967</td>\n",
       "      <td>14M</td>\n",
       "      <td>500,000+</td>\n",
       "      <td>Free</td>\n",
       "      <td>0</td>\n",
       "      <td>Everyone</td>\n",
       "      <td>Art &amp; Design;Pretend Play</td>\n",
       "      <td>January 15, 2018</td>\n",
       "      <td>2.0.0</td>\n",
       "      <td>4.0.3 and up</td>\n",
       "    </tr>\n",
       "    <tr>\n",
       "      <th>23</th>\n",
       "      <td>Mcqueen Coloring pages</td>\n",
       "      <td>ART_AND_DESIGN</td>\n",
       "      <td>NaN</td>\n",
       "      <td>61</td>\n",
       "      <td>7.0M</td>\n",
       "      <td>100,000+</td>\n",
       "      <td>Free</td>\n",
       "      <td>0</td>\n",
       "      <td>Everyone</td>\n",
       "      <td>Art &amp; Design;Action &amp; Adventure</td>\n",
       "      <td>March 7, 2018</td>\n",
       "      <td>1.0.0</td>\n",
       "      <td>4.1 and up</td>\n",
       "    </tr>\n",
       "  </tbody>\n",
       "</table>\n",
       "</div>"
      ],
      "text/plain": [
       "                       App        Category  Rating Reviews  Size  Installs  \\\n",
       "1      Coloring book moana  ART_AND_DESIGN     3.9     967   14M  500,000+   \n",
       "23  Mcqueen Coloring pages  ART_AND_DESIGN     NaN      61  7.0M  100,000+   \n",
       "\n",
       "    Type Price Content Rating                           Genres  \\\n",
       "1   Free     0       Everyone        Art & Design;Pretend Play   \n",
       "23  Free     0       Everyone  Art & Design;Action & Adventure   \n",
       "\n",
       "        Last Updated Current Ver   Android Ver  \n",
       "1   January 15, 2018       2.0.0  4.0.3 and up  \n",
       "23     March 7, 2018       1.0.0    4.1 and up  "
      ]
     },
     "execution_count": 6,
     "metadata": {},
     "output_type": "execute_result"
    }
   ],
   "source": [
    "df[df.duplicated(subset=['App'], keep=False)].head(2)"
   ]
  },
  {
   "cell_type": "code",
   "execution_count": 7,
   "id": "ba61611a",
   "metadata": {},
   "outputs": [
    {
     "data": {
      "text/html": [
       "<div>\n",
       "<style scoped>\n",
       "    .dataframe tbody tr th:only-of-type {\n",
       "        vertical-align: middle;\n",
       "    }\n",
       "\n",
       "    .dataframe tbody tr th {\n",
       "        vertical-align: top;\n",
       "    }\n",
       "\n",
       "    .dataframe thead th {\n",
       "        text-align: right;\n",
       "    }\n",
       "</style>\n",
       "<table border=\"1\" class=\"dataframe\">\n",
       "  <thead>\n",
       "    <tr style=\"text-align: right;\">\n",
       "      <th></th>\n",
       "      <th>App</th>\n",
       "      <th>Category</th>\n",
       "      <th>Rating</th>\n",
       "      <th>Reviews</th>\n",
       "      <th>Size</th>\n",
       "      <th>Installs</th>\n",
       "      <th>Type</th>\n",
       "      <th>Price</th>\n",
       "      <th>Content Rating</th>\n",
       "      <th>Genres</th>\n",
       "      <th>Last Updated</th>\n",
       "      <th>Current Ver</th>\n",
       "      <th>Android Ver</th>\n",
       "    </tr>\n",
       "  </thead>\n",
       "  <tbody>\n",
       "    <tr>\n",
       "      <th>1</th>\n",
       "      <td>Coloring book moana</td>\n",
       "      <td>ART_AND_DESIGN</td>\n",
       "      <td>3.9</td>\n",
       "      <td>967</td>\n",
       "      <td>14M</td>\n",
       "      <td>500,000+</td>\n",
       "      <td>Free</td>\n",
       "      <td>0</td>\n",
       "      <td>Everyone</td>\n",
       "      <td>Art &amp; Design;Pretend Play</td>\n",
       "      <td>January 15, 2018</td>\n",
       "      <td>2.0.0</td>\n",
       "      <td>4.0.3 and up</td>\n",
       "    </tr>\n",
       "    <tr>\n",
       "      <th>2033</th>\n",
       "      <td>Coloring book moana</td>\n",
       "      <td>FAMILY</td>\n",
       "      <td>3.9</td>\n",
       "      <td>974</td>\n",
       "      <td>14M</td>\n",
       "      <td>500,000+</td>\n",
       "      <td>Free</td>\n",
       "      <td>0</td>\n",
       "      <td>Everyone</td>\n",
       "      <td>Art &amp; Design;Pretend Play</td>\n",
       "      <td>January 15, 2018</td>\n",
       "      <td>2.0.0</td>\n",
       "      <td>4.0.3 and up</td>\n",
       "    </tr>\n",
       "  </tbody>\n",
       "</table>\n",
       "</div>"
      ],
      "text/plain": [
       "                      App        Category  Rating Reviews Size  Installs  \\\n",
       "1     Coloring book moana  ART_AND_DESIGN     3.9     967  14M  500,000+   \n",
       "2033  Coloring book moana          FAMILY     3.9     974  14M  500,000+   \n",
       "\n",
       "      Type Price Content Rating                     Genres      Last Updated  \\\n",
       "1     Free     0       Everyone  Art & Design;Pretend Play  January 15, 2018   \n",
       "2033  Free     0       Everyone  Art & Design;Pretend Play  January 15, 2018   \n",
       "\n",
       "     Current Ver   Android Ver  \n",
       "1          2.0.0  4.0.3 and up  \n",
       "2033       2.0.0  4.0.3 and up  "
      ]
     },
     "execution_count": 7,
     "metadata": {},
     "output_type": "execute_result"
    }
   ],
   "source": [
    "df.loc[df.App == \"Coloring book moana\"]"
   ]
  },
  {
   "cell_type": "markdown",
   "id": "065b1f92",
   "metadata": {},
   "source": [
    "Проверив часть дубликатов выяснил, что они идентичны, просто изначально думал может будет смысл как-то объединить или еще провести какие-то манипуляции, но нужно по сути просто взять последнее включение, так как оно скорее будет чуть \"свежее\", больше оценок или типа того, но на самом деле тоже не критично. Удалим дупликаты."
   ]
  },
  {
   "cell_type": "code",
   "execution_count": 8,
   "id": "0d19803a",
   "metadata": {},
   "outputs": [],
   "source": [
    "df = df.drop_duplicates(subset=['App'], keep='last')"
   ]
  },
  {
   "cell_type": "code",
   "execution_count": 9,
   "id": "4f077695",
   "metadata": {},
   "outputs": [],
   "source": [
    "# df['Price'].unique()"
   ]
  },
  {
   "cell_type": "code",
   "execution_count": 10,
   "id": "e0f2359b",
   "metadata": {},
   "outputs": [
    {
     "data": {
      "text/html": [
       "<div>\n",
       "<style scoped>\n",
       "    .dataframe tbody tr th:only-of-type {\n",
       "        vertical-align: middle;\n",
       "    }\n",
       "\n",
       "    .dataframe tbody tr th {\n",
       "        vertical-align: top;\n",
       "    }\n",
       "\n",
       "    .dataframe thead th {\n",
       "        text-align: right;\n",
       "    }\n",
       "</style>\n",
       "<table border=\"1\" class=\"dataframe\">\n",
       "  <thead>\n",
       "    <tr style=\"text-align: right;\">\n",
       "      <th></th>\n",
       "      <th>App</th>\n",
       "      <th>Category</th>\n",
       "      <th>Rating</th>\n",
       "      <th>Reviews</th>\n",
       "      <th>Size</th>\n",
       "      <th>Installs</th>\n",
       "      <th>Type</th>\n",
       "      <th>Price</th>\n",
       "      <th>Content Rating</th>\n",
       "      <th>Genres</th>\n",
       "      <th>Last Updated</th>\n",
       "      <th>Current Ver</th>\n",
       "      <th>Android Ver</th>\n",
       "    </tr>\n",
       "  </thead>\n",
       "  <tbody>\n",
       "    <tr>\n",
       "      <th>10472</th>\n",
       "      <td>Life Made WI-Fi Touchscreen Photo Frame</td>\n",
       "      <td>1.9</td>\n",
       "      <td>19.0</td>\n",
       "      <td>3.0M</td>\n",
       "      <td>1,000+</td>\n",
       "      <td>Free</td>\n",
       "      <td>0</td>\n",
       "      <td>Everyone</td>\n",
       "      <td>NaN</td>\n",
       "      <td>February 11, 2018</td>\n",
       "      <td>1.0.19</td>\n",
       "      <td>4.0 and up</td>\n",
       "      <td>NaN</td>\n",
       "    </tr>\n",
       "  </tbody>\n",
       "</table>\n",
       "</div>"
      ],
      "text/plain": [
       "                                           App Category  Rating Reviews  \\\n",
       "10472  Life Made WI-Fi Touchscreen Photo Frame      1.9    19.0    3.0M   \n",
       "\n",
       "         Size Installs Type     Price Content Rating             Genres  \\\n",
       "10472  1,000+     Free    0  Everyone            NaN  February 11, 2018   \n",
       "\n",
       "      Last Updated Current Ver Android Ver  \n",
       "10472       1.0.19  4.0 and up         NaN  "
      ]
     },
     "execution_count": 10,
     "metadata": {},
     "output_type": "execute_result"
    }
   ],
   "source": [
    "df.loc[df.Price == \"Everyone\"].head(3)"
   ]
  },
  {
   "cell_type": "code",
   "execution_count": 11,
   "id": "c3e9df6c",
   "metadata": {},
   "outputs": [],
   "source": [
    "df.drop(10472, axis=0, inplace=True)"
   ]
  },
  {
   "cell_type": "code",
   "execution_count": 12,
   "id": "8d717987",
   "metadata": {},
   "outputs": [
    {
     "data": {
      "text/plain": [
       "(9659, 13)"
      ]
     },
     "execution_count": 12,
     "metadata": {},
     "output_type": "execute_result"
    }
   ],
   "source": [
    "df.shape"
   ]
  },
  {
   "cell_type": "markdown",
   "id": "21ccfb81",
   "metadata": {},
   "source": [
    "После удаления дупликатов, переведем колонки, которые возможно (и нужно) в числовой формат. Тут же нашел странный выброс в данных, удалим его. А также начнем постепенно приводить некоторые колонки к желаемому типу."
   ]
  },
  {
   "cell_type": "code",
   "execution_count": 13,
   "id": "39942453",
   "metadata": {},
   "outputs": [],
   "source": [
    "df['Price'] = df['Price'].replace(to_replace ='\\$', value = '', regex = True)"
   ]
  },
  {
   "cell_type": "code",
   "execution_count": 14,
   "id": "8df891f5",
   "metadata": {},
   "outputs": [],
   "source": [
    "df = df.astype({'Price': float, 'Reviews': int})"
   ]
  },
  {
   "cell_type": "code",
   "execution_count": 15,
   "id": "d6105409",
   "metadata": {},
   "outputs": [
    {
     "data": {
      "text/plain": [
       "5332"
      ]
     },
     "execution_count": 15,
     "metadata": {},
     "output_type": "execute_result"
    }
   ],
   "source": [
    "df.Reviews.nunique()"
   ]
  },
  {
   "cell_type": "code",
   "execution_count": 16,
   "id": "67d73a4b",
   "metadata": {},
   "outputs": [],
   "source": [
    "# df[df.duplicated(subset=['Reviews'], keep=False)].head()"
   ]
  },
  {
   "cell_type": "code",
   "execution_count": 17,
   "id": "246a31b2",
   "metadata": {},
   "outputs": [
    {
     "data": {
      "text/plain": [
       "array(['Everyone', 'Teen', 'Everyone 10+', 'Mature 17+',\n",
       "       'Adults only 18+', 'Unrated'], dtype=object)"
      ]
     },
     "execution_count": 17,
     "metadata": {},
     "output_type": "execute_result"
    }
   ],
   "source": [
    "df['Content Rating'].unique()"
   ]
  },
  {
   "cell_type": "markdown",
   "id": "6463dd46",
   "metadata": {},
   "source": [
    "Доходим до колонки \"Последнее обновление\". Как таковое само по себе оно не несет особого смысла, и не сыграет роли ни при начальном анализе, ни тем более при обучении различных моделей, скорее даже будет вредить. Поэтому добавим колонку \"Сколько времени прошло с последнего обновления\", которая в теории покажет, что если времени прошло не много, то разработчики продолжают совершенствовать приложение и не забрасывают его, что несомненно хорошо. Данные были собраны в феврале 2019 года, будем отходить от этой даты. Это уже, конечно, более подходит под feature engineering, а не под eda, но сделаю сразу тут."
   ]
  },
  {
   "cell_type": "code",
   "execution_count": 18,
   "id": "61a92432",
   "metadata": {},
   "outputs": [
    {
     "data": {
      "text/plain": [
       "array(['January 7, 2018', 'August 1, 2018', 'June 8, 2018', ...,\n",
       "       'January 20, 2014', 'February 16, 2014', 'March 23, 2014'],\n",
       "      dtype=object)"
      ]
     },
     "execution_count": 18,
     "metadata": {},
     "output_type": "execute_result"
    }
   ],
   "source": [
    "df['Last Updated'].unique()"
   ]
  },
  {
   "cell_type": "code",
   "execution_count": 19,
   "id": "85403178",
   "metadata": {},
   "outputs": [],
   "source": [
    "data_post = datetime.datetime(year=2019, month=2, day=3)\n",
    "\n",
    "def splitting(st):\n",
    "    m = []\n",
    "    m = st.split()\n",
    "    m[1] = m[1][:-1]\n",
    "    MonthDict={ 1 : \"January\",\n",
    "       2 : \"February\",\n",
    "       3 : \"March\",\n",
    "       4 : \"April\",\n",
    "       5 : \"May\",\n",
    "       6 : \"June\",\n",
    "       7 : \"July\",\n",
    "       8 : \"August\",\n",
    "       9 : \"September\",\n",
    "       10 : \"October\",\n",
    "       11 : \"November\",\n",
    "       12 : \"December\"\n",
    "    }\n",
    "    MonthDict_2 = dict((y,x) for x,y in MonthDict.items())\n",
    "    return datetime.datetime(year=int(m[2]), month=int(MonthDict_2[m[0]]), day=int(m[1]))\n",
    "\n",
    "def difference(st):\n",
    "    return int((data_post - splitting(st)).days)"
   ]
  },
  {
   "cell_type": "code",
   "execution_count": 20,
   "id": "3071b696",
   "metadata": {},
   "outputs": [],
   "source": [
    "df['days_after_update'] = df['Last Updated'].apply(difference)"
   ]
  },
  {
   "cell_type": "code",
   "execution_count": 21,
   "id": "34febdd5",
   "metadata": {},
   "outputs": [],
   "source": [
    "df.drop(columns=[\"Last Updated\"],inplace=True)"
   ]
  },
  {
   "cell_type": "code",
   "execution_count": 22,
   "id": "a926ffa8",
   "metadata": {},
   "outputs": [
    {
     "data": {
      "text/html": [
       "<div>\n",
       "<style scoped>\n",
       "    .dataframe tbody tr th:only-of-type {\n",
       "        vertical-align: middle;\n",
       "    }\n",
       "\n",
       "    .dataframe tbody tr th {\n",
       "        vertical-align: top;\n",
       "    }\n",
       "\n",
       "    .dataframe thead th {\n",
       "        text-align: right;\n",
       "    }\n",
       "</style>\n",
       "<table border=\"1\" class=\"dataframe\">\n",
       "  <thead>\n",
       "    <tr style=\"text-align: right;\">\n",
       "      <th></th>\n",
       "      <th>App</th>\n",
       "      <th>Category</th>\n",
       "      <th>Rating</th>\n",
       "      <th>Reviews</th>\n",
       "      <th>Size</th>\n",
       "      <th>Installs</th>\n",
       "      <th>Type</th>\n",
       "      <th>Price</th>\n",
       "      <th>Content Rating</th>\n",
       "      <th>Genres</th>\n",
       "      <th>Current Ver</th>\n",
       "      <th>Android Ver</th>\n",
       "      <th>days_after_update</th>\n",
       "    </tr>\n",
       "  </thead>\n",
       "  <tbody>\n",
       "    <tr>\n",
       "      <th>0</th>\n",
       "      <td>Photo Editor &amp; Candy Camera &amp; Grid &amp; ScrapBook</td>\n",
       "      <td>ART_AND_DESIGN</td>\n",
       "      <td>4.1</td>\n",
       "      <td>159</td>\n",
       "      <td>19M</td>\n",
       "      <td>10,000+</td>\n",
       "      <td>Free</td>\n",
       "      <td>0.0</td>\n",
       "      <td>Everyone</td>\n",
       "      <td>Art &amp; Design</td>\n",
       "      <td>1.0.0</td>\n",
       "      <td>4.0.3 and up</td>\n",
       "      <td>392</td>\n",
       "    </tr>\n",
       "    <tr>\n",
       "      <th>2</th>\n",
       "      <td>U Launcher Lite – FREE Live Cool Themes, Hide ...</td>\n",
       "      <td>ART_AND_DESIGN</td>\n",
       "      <td>4.7</td>\n",
       "      <td>87510</td>\n",
       "      <td>8.7M</td>\n",
       "      <td>5,000,000+</td>\n",
       "      <td>Free</td>\n",
       "      <td>0.0</td>\n",
       "      <td>Everyone</td>\n",
       "      <td>Art &amp; Design</td>\n",
       "      <td>1.2.4</td>\n",
       "      <td>4.0.3 and up</td>\n",
       "      <td>186</td>\n",
       "    </tr>\n",
       "    <tr>\n",
       "      <th>3</th>\n",
       "      <td>Sketch - Draw &amp; Paint</td>\n",
       "      <td>ART_AND_DESIGN</td>\n",
       "      <td>4.5</td>\n",
       "      <td>215644</td>\n",
       "      <td>25M</td>\n",
       "      <td>50,000,000+</td>\n",
       "      <td>Free</td>\n",
       "      <td>0.0</td>\n",
       "      <td>Teen</td>\n",
       "      <td>Art &amp; Design</td>\n",
       "      <td>Varies with device</td>\n",
       "      <td>4.2 and up</td>\n",
       "      <td>240</td>\n",
       "    </tr>\n",
       "  </tbody>\n",
       "</table>\n",
       "</div>"
      ],
      "text/plain": [
       "                                                 App        Category  Rating  \\\n",
       "0     Photo Editor & Candy Camera & Grid & ScrapBook  ART_AND_DESIGN     4.1   \n",
       "2  U Launcher Lite – FREE Live Cool Themes, Hide ...  ART_AND_DESIGN     4.7   \n",
       "3                              Sketch - Draw & Paint  ART_AND_DESIGN     4.5   \n",
       "\n",
       "   Reviews  Size     Installs  Type  Price Content Rating        Genres  \\\n",
       "0      159   19M      10,000+  Free    0.0       Everyone  Art & Design   \n",
       "2    87510  8.7M   5,000,000+  Free    0.0       Everyone  Art & Design   \n",
       "3   215644   25M  50,000,000+  Free    0.0           Teen  Art & Design   \n",
       "\n",
       "          Current Ver   Android Ver  days_after_update  \n",
       "0               1.0.0  4.0.3 and up                392  \n",
       "2               1.2.4  4.0.3 and up                186  \n",
       "3  Varies with device    4.2 and up                240  "
      ]
     },
     "execution_count": 22,
     "metadata": {},
     "output_type": "execute_result"
    }
   ],
   "source": [
    "df.head(3)"
   ]
  },
  {
   "cell_type": "markdown",
   "id": "93c47519",
   "metadata": {},
   "source": [
    "Отчасти по субъективному мнению, могу предположить, что было бы неплохо чтобы разработчики выпускали хотя бы минорные обновления раз в несколько кварталов. Вроде как и игры в которые я когда-то играл, и приложения выпускали какие-то обновления за этот период, поэтому остановлюсь на нем. Хочу добавить еще колонку, для дальнейшей удобной группировки."
   ]
  },
  {
   "cell_type": "code",
   "execution_count": 23,
   "id": "c6c547fa",
   "metadata": {},
   "outputs": [],
   "source": [
    "def how_much_time(tm):\n",
    "    if tm <= 180:\n",
    "        return \"acctivly_follow\"\n",
    "    if tm > 180 and tm <= 365:\n",
    "        return \"middling_follow\"\n",
    "    if tm > 365:\n",
    "        return \"little_follow\""
   ]
  },
  {
   "cell_type": "code",
   "execution_count": 24,
   "id": "b95477da",
   "metadata": {},
   "outputs": [],
   "source": [
    "df['tracking'] = df['days_after_update'].apply(how_much_time)"
   ]
  },
  {
   "cell_type": "code",
   "execution_count": 25,
   "id": "9a857aed",
   "metadata": {},
   "outputs": [
    {
     "data": {
      "text/plain": [
       "(9659, 14)"
      ]
     },
     "execution_count": 25,
     "metadata": {},
     "output_type": "execute_result"
    }
   ],
   "source": [
    "df.shape"
   ]
  },
  {
   "cell_type": "markdown",
   "id": "4d952c39",
   "metadata": {},
   "source": [
    "Было бы неплохо колонку \"размер\" также привести к числовому виду. Сделаем это."
   ]
  },
  {
   "cell_type": "code",
   "execution_count": 26,
   "id": "2642ca59",
   "metadata": {},
   "outputs": [],
   "source": [
    "def change_size(st):\n",
    "    if st.find('M') != -1:\n",
    "        return float(st.replace('M', ''))\n",
    "    elif st.find('k') != -1:\n",
    "        return float(st.replace('k', '')) * 0.00098\n",
    "    else:\n",
    "        return -1"
   ]
  },
  {
   "cell_type": "code",
   "execution_count": 27,
   "id": "e7c6fee3",
   "metadata": {},
   "outputs": [],
   "source": [
    "df['Size'] = df['Size'].apply(change_size)"
   ]
  },
  {
   "cell_type": "code",
   "execution_count": 28,
   "id": "811f3b84",
   "metadata": {},
   "outputs": [
    {
     "data": {
      "text/html": [
       "<div>\n",
       "<style scoped>\n",
       "    .dataframe tbody tr th:only-of-type {\n",
       "        vertical-align: middle;\n",
       "    }\n",
       "\n",
       "    .dataframe tbody tr th {\n",
       "        vertical-align: top;\n",
       "    }\n",
       "\n",
       "    .dataframe thead th {\n",
       "        text-align: right;\n",
       "    }\n",
       "</style>\n",
       "<table border=\"1\" class=\"dataframe\">\n",
       "  <thead>\n",
       "    <tr style=\"text-align: right;\">\n",
       "      <th></th>\n",
       "      <th>App</th>\n",
       "      <th>Category</th>\n",
       "      <th>Rating</th>\n",
       "      <th>Reviews</th>\n",
       "      <th>Size</th>\n",
       "      <th>Installs</th>\n",
       "      <th>Type</th>\n",
       "      <th>Price</th>\n",
       "      <th>Content Rating</th>\n",
       "      <th>Genres</th>\n",
       "      <th>Current Ver</th>\n",
       "      <th>Android Ver</th>\n",
       "      <th>days_after_update</th>\n",
       "      <th>tracking</th>\n",
       "    </tr>\n",
       "  </thead>\n",
       "  <tbody>\n",
       "    <tr>\n",
       "      <th>0</th>\n",
       "      <td>Photo Editor &amp; Candy Camera &amp; Grid &amp; ScrapBook</td>\n",
       "      <td>ART_AND_DESIGN</td>\n",
       "      <td>4.1</td>\n",
       "      <td>159</td>\n",
       "      <td>19.0</td>\n",
       "      <td>10,000+</td>\n",
       "      <td>Free</td>\n",
       "      <td>0.0</td>\n",
       "      <td>Everyone</td>\n",
       "      <td>Art &amp; Design</td>\n",
       "      <td>1.0.0</td>\n",
       "      <td>4.0.3 and up</td>\n",
       "      <td>392</td>\n",
       "      <td>little_follow</td>\n",
       "    </tr>\n",
       "    <tr>\n",
       "      <th>2</th>\n",
       "      <td>U Launcher Lite – FREE Live Cool Themes, Hide ...</td>\n",
       "      <td>ART_AND_DESIGN</td>\n",
       "      <td>4.7</td>\n",
       "      <td>87510</td>\n",
       "      <td>8.7</td>\n",
       "      <td>5,000,000+</td>\n",
       "      <td>Free</td>\n",
       "      <td>0.0</td>\n",
       "      <td>Everyone</td>\n",
       "      <td>Art &amp; Design</td>\n",
       "      <td>1.2.4</td>\n",
       "      <td>4.0.3 and up</td>\n",
       "      <td>186</td>\n",
       "      <td>middling_follow</td>\n",
       "    </tr>\n",
       "    <tr>\n",
       "      <th>3</th>\n",
       "      <td>Sketch - Draw &amp; Paint</td>\n",
       "      <td>ART_AND_DESIGN</td>\n",
       "      <td>4.5</td>\n",
       "      <td>215644</td>\n",
       "      <td>25.0</td>\n",
       "      <td>50,000,000+</td>\n",
       "      <td>Free</td>\n",
       "      <td>0.0</td>\n",
       "      <td>Teen</td>\n",
       "      <td>Art &amp; Design</td>\n",
       "      <td>Varies with device</td>\n",
       "      <td>4.2 and up</td>\n",
       "      <td>240</td>\n",
       "      <td>middling_follow</td>\n",
       "    </tr>\n",
       "    <tr>\n",
       "      <th>4</th>\n",
       "      <td>Pixel Draw - Number Art Coloring Book</td>\n",
       "      <td>ART_AND_DESIGN</td>\n",
       "      <td>4.3</td>\n",
       "      <td>967</td>\n",
       "      <td>2.8</td>\n",
       "      <td>100,000+</td>\n",
       "      <td>Free</td>\n",
       "      <td>0.0</td>\n",
       "      <td>Everyone</td>\n",
       "      <td>Art &amp; Design;Creativity</td>\n",
       "      <td>1.1</td>\n",
       "      <td>4.4 and up</td>\n",
       "      <td>228</td>\n",
       "      <td>middling_follow</td>\n",
       "    </tr>\n",
       "    <tr>\n",
       "      <th>5</th>\n",
       "      <td>Paper flowers instructions</td>\n",
       "      <td>ART_AND_DESIGN</td>\n",
       "      <td>4.4</td>\n",
       "      <td>167</td>\n",
       "      <td>5.6</td>\n",
       "      <td>50,000+</td>\n",
       "      <td>Free</td>\n",
       "      <td>0.0</td>\n",
       "      <td>Everyone</td>\n",
       "      <td>Art &amp; Design</td>\n",
       "      <td>1.0</td>\n",
       "      <td>2.3 and up</td>\n",
       "      <td>679</td>\n",
       "      <td>little_follow</td>\n",
       "    </tr>\n",
       "  </tbody>\n",
       "</table>\n",
       "</div>"
      ],
      "text/plain": [
       "                                                 App        Category  Rating  \\\n",
       "0     Photo Editor & Candy Camera & Grid & ScrapBook  ART_AND_DESIGN     4.1   \n",
       "2  U Launcher Lite – FREE Live Cool Themes, Hide ...  ART_AND_DESIGN     4.7   \n",
       "3                              Sketch - Draw & Paint  ART_AND_DESIGN     4.5   \n",
       "4              Pixel Draw - Number Art Coloring Book  ART_AND_DESIGN     4.3   \n",
       "5                         Paper flowers instructions  ART_AND_DESIGN     4.4   \n",
       "\n",
       "   Reviews  Size     Installs  Type  Price Content Rating  \\\n",
       "0      159  19.0      10,000+  Free    0.0       Everyone   \n",
       "2    87510   8.7   5,000,000+  Free    0.0       Everyone   \n",
       "3   215644  25.0  50,000,000+  Free    0.0           Teen   \n",
       "4      967   2.8     100,000+  Free    0.0       Everyone   \n",
       "5      167   5.6      50,000+  Free    0.0       Everyone   \n",
       "\n",
       "                    Genres         Current Ver   Android Ver  \\\n",
       "0             Art & Design               1.0.0  4.0.3 and up   \n",
       "2             Art & Design               1.2.4  4.0.3 and up   \n",
       "3             Art & Design  Varies with device    4.2 and up   \n",
       "4  Art & Design;Creativity                 1.1    4.4 and up   \n",
       "5             Art & Design                 1.0    2.3 and up   \n",
       "\n",
       "   days_after_update         tracking  \n",
       "0                392    little_follow  \n",
       "2                186  middling_follow  \n",
       "3                240  middling_follow  \n",
       "4                228  middling_follow  \n",
       "5                679    little_follow  "
      ]
     },
     "execution_count": 28,
     "metadata": {},
     "output_type": "execute_result"
    }
   ],
   "source": [
    "df.head()"
   ]
  },
  {
   "cell_type": "code",
   "execution_count": 29,
   "id": "01290268",
   "metadata": {},
   "outputs": [
    {
     "data": {
      "text/html": [
       "<div>\n",
       "<style scoped>\n",
       "    .dataframe tbody tr th:only-of-type {\n",
       "        vertical-align: middle;\n",
       "    }\n",
       "\n",
       "    .dataframe tbody tr th {\n",
       "        vertical-align: top;\n",
       "    }\n",
       "\n",
       "    .dataframe thead th {\n",
       "        text-align: right;\n",
       "    }\n",
       "</style>\n",
       "<table border=\"1\" class=\"dataframe\">\n",
       "  <thead>\n",
       "    <tr style=\"text-align: right;\">\n",
       "      <th></th>\n",
       "      <th>App</th>\n",
       "      <th>Category</th>\n",
       "      <th>Rating</th>\n",
       "      <th>Reviews</th>\n",
       "      <th>Size</th>\n",
       "      <th>Installs</th>\n",
       "      <th>Type</th>\n",
       "      <th>Price</th>\n",
       "      <th>Content Rating</th>\n",
       "      <th>Genres</th>\n",
       "      <th>Current Ver</th>\n",
       "      <th>Android Ver</th>\n",
       "      <th>days_after_update</th>\n",
       "      <th>tracking</th>\n",
       "    </tr>\n",
       "  </thead>\n",
       "  <tbody>\n",
       "    <tr>\n",
       "      <th>37</th>\n",
       "      <td>Floor Plan Creator</td>\n",
       "      <td>ART_AND_DESIGN</td>\n",
       "      <td>4.1</td>\n",
       "      <td>36639</td>\n",
       "      <td>-1.0</td>\n",
       "      <td>5,000,000+</td>\n",
       "      <td>Free</td>\n",
       "      <td>0.0</td>\n",
       "      <td>Everyone</td>\n",
       "      <td>Art &amp; Design</td>\n",
       "      <td>Varies with device</td>\n",
       "      <td>2.3.3 and up</td>\n",
       "      <td>204</td>\n",
       "      <td>middling_follow</td>\n",
       "    </tr>\n",
       "    <tr>\n",
       "      <th>52</th>\n",
       "      <td>Used Cars and Trucks for Sale</td>\n",
       "      <td>AUTO_AND_VEHICLES</td>\n",
       "      <td>4.6</td>\n",
       "      <td>17057</td>\n",
       "      <td>-1.0</td>\n",
       "      <td>1,000,000+</td>\n",
       "      <td>Free</td>\n",
       "      <td>0.0</td>\n",
       "      <td>Everyone</td>\n",
       "      <td>Auto &amp; Vehicles</td>\n",
       "      <td>Varies with device</td>\n",
       "      <td>Varies with device</td>\n",
       "      <td>188</td>\n",
       "      <td>middling_follow</td>\n",
       "    </tr>\n",
       "  </tbody>\n",
       "</table>\n",
       "</div>"
      ],
      "text/plain": [
       "                              App           Category  Rating  Reviews  Size  \\\n",
       "37             Floor Plan Creator     ART_AND_DESIGN     4.1    36639  -1.0   \n",
       "52  Used Cars and Trucks for Sale  AUTO_AND_VEHICLES     4.6    17057  -1.0   \n",
       "\n",
       "      Installs  Type  Price Content Rating           Genres  \\\n",
       "37  5,000,000+  Free    0.0       Everyone     Art & Design   \n",
       "52  1,000,000+  Free    0.0       Everyone  Auto & Vehicles   \n",
       "\n",
       "           Current Ver         Android Ver  days_after_update         tracking  \n",
       "37  Varies with device        2.3.3 and up                204  middling_follow  \n",
       "52  Varies with device  Varies with device                188  middling_follow  "
      ]
     },
     "execution_count": 29,
     "metadata": {},
     "output_type": "execute_result"
    }
   ],
   "source": [
    "df.loc[df.Size == -1].head(2)"
   ]
  },
  {
   "cell_type": "code",
   "execution_count": 30,
   "id": "7fc076ea",
   "metadata": {},
   "outputs": [
    {
     "data": {
      "text/plain": [
       "(1227, 14)"
      ]
     },
     "execution_count": 30,
     "metadata": {},
     "output_type": "execute_result"
    }
   ],
   "source": [
    "df.loc[df.Size == -1].shape"
   ]
  },
  {
   "cell_type": "markdown",
   "id": "18b07808",
   "metadata": {},
   "source": [
    "Довольно много записей в данных, где размер зависит от устройства."
   ]
  },
  {
   "cell_type": "markdown",
   "id": "b25ade41",
   "metadata": {},
   "source": [
    "Посмотрим на следующую колонку - \"Кол-во скачиваний\". Разброс значений в колонке хоть и не большой и изначально хотел попробовать преобразовать ее также к числовому виду. Но делать этого не буду, так как достаточно неочевидный разброс значений. Единственное, думаю, что имеет смысл удалить приложения, которые скачивали 0 раз."
   ]
  },
  {
   "cell_type": "code",
   "execution_count": 31,
   "id": "d4a00e37",
   "metadata": {},
   "outputs": [
    {
     "data": {
      "text/plain": [
       "array(['10,000+', '5,000,000+', '50,000,000+', '100,000+', '50,000+',\n",
       "       '1,000,000+', '10,000,000+', '5,000+', '500,000+',\n",
       "       '1,000,000,000+', '100,000,000+', '1,000+', '50+', '100+', '500+',\n",
       "       '10+', '1+', '5+', '500,000,000+', '0+', '0'], dtype=object)"
      ]
     },
     "execution_count": 31,
     "metadata": {},
     "output_type": "execute_result"
    }
   ],
   "source": [
    "df.Installs.unique()"
   ]
  },
  {
   "cell_type": "code",
   "execution_count": 36,
   "id": "256e325b",
   "metadata": {},
   "outputs": [],
   "source": [
    "to_del = ['0+', '0']"
   ]
  },
  {
   "cell_type": "code",
   "execution_count": 37,
   "id": "5e22db5e",
   "metadata": {},
   "outputs": [],
   "source": [
    "mask = df['Installs'].isin(to_del)\n",
    "ind = df.loc[mask, 'Installs'].index"
   ]
  },
  {
   "cell_type": "code",
   "execution_count": 38,
   "id": "a7bc4987",
   "metadata": {},
   "outputs": [],
   "source": [
    "df.drop(index = ind, axis=0, inplace=True)"
   ]
  },
  {
   "cell_type": "code",
   "execution_count": 39,
   "id": "b07c4236",
   "metadata": {},
   "outputs": [
    {
     "data": {
      "text/plain": [
       "(9644, 14)"
      ]
     },
     "execution_count": 39,
     "metadata": {},
     "output_type": "execute_result"
    }
   ],
   "source": [
    "df.shape"
   ]
  },
  {
   "cell_type": "markdown",
   "id": "fabb6efe",
   "metadata": {},
   "source": [
    "Рассмотрим следующую колонку."
   ]
  },
  {
   "cell_type": "code",
   "execution_count": 65,
   "id": "bd33796d",
   "metadata": {},
   "outputs": [
    {
     "data": {
      "text/plain": [
       "array(['Everyone', 'Teen', 'Everyone 10+', 'Mature 17+',\n",
       "       'Adults only 18+', 'Unrated'], dtype=object)"
      ]
     },
     "execution_count": 65,
     "metadata": {},
     "output_type": "execute_result"
    }
   ],
   "source": [
    "df['Content Rating'].unique()"
   ]
  },
  {
   "cell_type": "code",
   "execution_count": 66,
   "id": "a5dbdf75",
   "metadata": {},
   "outputs": [
    {
     "data": {
      "text/plain": [
       "Everyone           7891\n",
       "Teen               1034\n",
       "Mature 17+          393\n",
       "Everyone 10+        321\n",
       "Adults only 18+       3\n",
       "Unrated               2\n",
       "Name: Content Rating, dtype: int64"
      ]
     },
     "execution_count": 66,
     "metadata": {},
     "output_type": "execute_result"
    }
   ],
   "source": [
    "df['Content Rating'].value_counts()"
   ]
  },
  {
   "cell_type": "code",
   "execution_count": 67,
   "id": "c0ca290f",
   "metadata": {},
   "outputs": [
    {
     "data": {
      "text/html": [
       "<div>\n",
       "<style scoped>\n",
       "    .dataframe tbody tr th:only-of-type {\n",
       "        vertical-align: middle;\n",
       "    }\n",
       "\n",
       "    .dataframe tbody tr th {\n",
       "        vertical-align: top;\n",
       "    }\n",
       "\n",
       "    .dataframe thead th {\n",
       "        text-align: right;\n",
       "    }\n",
       "</style>\n",
       "<table border=\"1\" class=\"dataframe\">\n",
       "  <thead>\n",
       "    <tr style=\"text-align: right;\">\n",
       "      <th></th>\n",
       "      <th>App</th>\n",
       "      <th>Category</th>\n",
       "      <th>Rating</th>\n",
       "      <th>Reviews</th>\n",
       "      <th>Size</th>\n",
       "      <th>Installs</th>\n",
       "      <th>Type</th>\n",
       "      <th>Price</th>\n",
       "      <th>Content Rating</th>\n",
       "      <th>Genres</th>\n",
       "      <th>Android Ver</th>\n",
       "      <th>days_after_update</th>\n",
       "      <th>tracking</th>\n",
       "    </tr>\n",
       "  </thead>\n",
       "  <tbody>\n",
       "    <tr>\n",
       "      <th>7312</th>\n",
       "      <td>Best CG Photography</td>\n",
       "      <td>FAMILY</td>\n",
       "      <td>NaN</td>\n",
       "      <td>1</td>\n",
       "      <td>2.5</td>\n",
       "      <td>500+</td>\n",
       "      <td>Free</td>\n",
       "      <td>0.0</td>\n",
       "      <td>Unrated</td>\n",
       "      <td>Entertainment</td>\n",
       "      <td>3.0 and up</td>\n",
       "      <td>1320</td>\n",
       "      <td>little_follow</td>\n",
       "    </tr>\n",
       "    <tr>\n",
       "      <th>8266</th>\n",
       "      <td>DC Universe Online Map</td>\n",
       "      <td>TOOLS</td>\n",
       "      <td>4.1</td>\n",
       "      <td>1186</td>\n",
       "      <td>6.4</td>\n",
       "      <td>50,000+</td>\n",
       "      <td>Free</td>\n",
       "      <td>0.0</td>\n",
       "      <td>Unrated</td>\n",
       "      <td>Tools</td>\n",
       "      <td>2.3.3 and up</td>\n",
       "      <td>2533</td>\n",
       "      <td>little_follow</td>\n",
       "    </tr>\n",
       "  </tbody>\n",
       "</table>\n",
       "</div>"
      ],
      "text/plain": [
       "                         App Category  Rating  Reviews  Size Installs  Type  \\\n",
       "7312     Best CG Photography   FAMILY     NaN        1   2.5     500+  Free   \n",
       "8266  DC Universe Online Map    TOOLS     4.1     1186   6.4  50,000+  Free   \n",
       "\n",
       "      Price Content Rating         Genres   Android Ver  days_after_update  \\\n",
       "7312    0.0        Unrated  Entertainment    3.0 and up               1320   \n",
       "8266    0.0        Unrated          Tools  2.3.3 and up               2533   \n",
       "\n",
       "           tracking  \n",
       "7312  little_follow  \n",
       "8266  little_follow  "
      ]
     },
     "execution_count": 67,
     "metadata": {},
     "output_type": "execute_result"
    }
   ],
   "source": [
    "df.loc[df['Content Rating'] == 'Unrated']"
   ]
  },
  {
   "cell_type": "code",
   "execution_count": 68,
   "id": "5f743769",
   "metadata": {},
   "outputs": [
    {
     "data": {
      "text/plain": [
       "Everyone        7893\n",
       "Teen            1034\n",
       "Mature 17+       396\n",
       "Everyone 10+     321\n",
       "Name: Content Rating, dtype: int64"
      ]
     },
     "execution_count": 68,
     "metadata": {},
     "output_type": "execute_result"
    }
   ],
   "source": [
    "df['Content Rating'] = df['Content Rating'].replace([\"Adults only 18+\", \"Unrated\"],[\"Mature 17+\", \"Everyone\"])\n",
    "df['Content Rating'].value_counts()"
   ]
  },
  {
   "cell_type": "markdown",
   "id": "74894eef",
   "metadata": {},
   "source": [
    "Итак, на данный момент имеем уже 4 преобразованные колонки. Колонка версия андройда также достаточно интересна. Если приложение доступно для андроида старшей версии, то большее кол-во людей может его установить (т.е. даже те, у кого старые девайсы), что повышает кол-во потенциальных пользователей. Однако не совсем ясно, какую версию считать оптимальной (ведь с другой стороны если приложение подходит для старших версий, то есть вероятность, что оно не такое \"крутое\"). Но нужно ли нам оценивать \"крутость\"? Зависит больше от конкретной задачи, и здесь нам, наверное, не нужно. Это были скорее мысли вслух. Так как я все равно информации не нашел о распространенности версий, поэтому оставлю эту колонку так, как есть."
   ]
  },
  {
   "cell_type": "code",
   "execution_count": 40,
   "id": "bbbfdb92",
   "metadata": {},
   "outputs": [
    {
     "data": {
      "text/plain": [
       "array(['4.0.3 and up', '4.2 and up', '4.4 and up', '2.3 and up',\n",
       "       '3.0 and up', '4.1 and up', '4.0 and up', '2.3.3 and up',\n",
       "       'Varies with device', '2.2 and up', '5.0 and up', '6.0 and up',\n",
       "       '1.6 and up', '1.5 and up', '2.1 and up', '7.0 and up',\n",
       "       '5.1 and up', '4.3 and up', '4.0.3 - 7.1.1', '2.0 and up',\n",
       "       '3.2 and up', '4.4W and up', '7.1 and up', '7.0 - 7.1.1',\n",
       "       '8.0 and up', '5.0 - 8.0', '3.1 and up', '2.0.1 and up',\n",
       "       '4.1 - 7.1.1', nan, '5.0 - 6.0', '1.0 and up', '2.2 - 7.1.1',\n",
       "       '5.0 - 7.1.1'], dtype=object)"
      ]
     },
     "execution_count": 40,
     "metadata": {},
     "output_type": "execute_result"
    }
   ],
   "source": [
    "df['Android Ver'].unique()"
   ]
  },
  {
   "cell_type": "markdown",
   "id": "42a55ada",
   "metadata": {},
   "source": [
    "Текущая версия приложения о многом не скажет, как мне кажется, поэтому я решил ее удалить."
   ]
  },
  {
   "cell_type": "code",
   "execution_count": 41,
   "id": "f108c484",
   "metadata": {},
   "outputs": [],
   "source": [
    "df.drop(columns=[\"Current Ver\"],inplace=True)"
   ]
  },
  {
   "cell_type": "code",
   "execution_count": 42,
   "id": "3a9c491b",
   "metadata": {},
   "outputs": [
    {
     "data": {
      "text/plain": [
       "App                   object\n",
       "Category              object\n",
       "Rating               float64\n",
       "Reviews                int32\n",
       "Size                 float64\n",
       "Installs              object\n",
       "Type                  object\n",
       "Price                float64\n",
       "Content Rating        object\n",
       "Genres                object\n",
       "Android Ver           object\n",
       "days_after_update      int64\n",
       "tracking              object\n",
       "dtype: object"
      ]
     },
     "execution_count": 42,
     "metadata": {},
     "output_type": "execute_result"
    }
   ],
   "source": [
    "df.dtypes"
   ]
  },
  {
   "cell_type": "markdown",
   "id": "5d3ed4aa",
   "metadata": {},
   "source": [
    "Вроде все необходимые подготовительные действия с данными проделаны, можем теперь посмотреть на распределение данных и как-то сгруппировать их."
   ]
  },
  {
   "cell_type": "markdown",
   "id": "822eba46",
   "metadata": {},
   "source": [
    "## Exploratory data analysis"
   ]
  },
  {
   "cell_type": "markdown",
   "id": "427d96c1",
   "metadata": {},
   "source": [
    "Перед тем как смотреть на распределения наших данных и зависимости их друг от друга, попробую выдвинуть пару гипотез, которые впоследствии проверю.\n",
    "#### Гипотезы:\n",
    "1. Рейтинг платных приложений будет выше, чем бесплатных.\n",
    "2. Наиболее популярные категории связаны с семьей, развлечениями, модой/красотой.\n",
    "3. Распределение рейтинга ожидаю, что будет симметрично."
   ]
  },
  {
   "cell_type": "markdown",
   "id": "a672ad98",
   "metadata": {},
   "source": [
    "### Графики распределений и не только"
   ]
  },
  {
   "cell_type": "code",
   "execution_count": 43,
   "id": "ecaacda8",
   "metadata": {},
   "outputs": [
    {
     "data": {
      "image/png": "[encoded data removed]",
      "text/plain": [
       "<Figure size 720x720 with 1 Axes>"
      ]
     },
     "metadata": {
      "needs_background": "light"
     },
     "output_type": "display_data"
    }
   ],
   "source": [
    "plt.figure(figsize=(10,10))\n",
    "sns.countplot(y = df['Category'], order = df['Category'].value_counts().index)\n",
    "plt.show()"
   ]
  },
  {
   "cell_type": "code",
   "execution_count": 44,
   "id": "18b59eb2",
   "metadata": {},
   "outputs": [
    {
     "data": {
      "text/plain": [
       "Index(['FAMILY', 'GAME', 'TOOLS', 'BUSINESS', 'MEDICAL', 'PERSONALIZATION',\n",
       "       'PRODUCTIVITY'],\n",
       "      dtype='object')"
      ]
     },
     "execution_count": 44,
     "metadata": {},
     "output_type": "execute_result"
    }
   ],
   "source": [
    "df['Category'].value_counts().keys()[:7]"
   ]
  },
  {
   "cell_type": "code",
   "execution_count": 45,
   "id": "b52ea8ac",
   "metadata": {},
   "outputs": [
    {
     "data": {
      "text/plain": [
       "Index(['Tools', 'Entertainment', 'Education', 'Business', 'Medical',\n",
       "       'Personalization', 'Productivity'],\n",
       "      dtype='object')"
      ]
     },
     "execution_count": 45,
     "metadata": {},
     "output_type": "execute_result"
    }
   ],
   "source": [
    "df['Genres'].value_counts().keys()[:7]"
   ]
  },
  {
   "cell_type": "markdown",
   "id": "122b874c",
   "metadata": {},
   "source": [
    "Видно, что колонки \"категория\" и \"жанр\" очень схожи, по крайней мере, если вывести некоторое кол-во наиболее популярных, то они практически идентичны. И если семейные приложения в топе, что достаточно ожидаемо, то вот бизнесс и медицина слегка удивли, ровно также как и \"мода/красота\" на последнем месте. Люди все больше следят за своим здоровьем (так посмотрел у меня у самого стоит пару приложений из этой категории)."
   ]
  },
  {
   "cell_type": "markdown",
   "id": "ef0bca03",
   "metadata": {},
   "source": [
    "Посмотрим на распределние рейтинга. Из графика видно, что в целом приложений с оценкой \">4.0\" неожиданно много."
   ]
  },
  {
   "cell_type": "code",
   "execution_count": 46,
   "id": "9753791e",
   "metadata": {},
   "outputs": [
    {
     "data": {
      "text/plain": [
       "<Figure size 720x720 with 0 Axes>"
      ]
     },
     "metadata": {},
     "output_type": "display_data"
    },
    {
     "data": {
      "image/png": "[encoded data removed]",
      "text/plain": [
       "<Figure size 360x360 with 1 Axes>"
      ]
     },
     "metadata": {
      "needs_background": "light"
     },
     "output_type": "display_data"
    }
   ],
   "source": [
    "plt.figure(figsize=(10,10))\n",
    "sns.displot(df['Rating'])\n",
    "plt.show()"
   ]
  },
  {
   "cell_type": "code",
   "execution_count": 47,
   "id": "449fd1ab",
   "metadata": {},
   "outputs": [
    {
     "name": "stdout",
     "output_type": "stream",
     "text": [
      "Всего приложений с оценкой меньше 4: 1910 и составляет это 20.0% от всего числа наблюдений\n"
     ]
    }
   ],
   "source": [
    "print('Всего приложений с оценкой меньше 4: {} и составляет это {}% от всего числа наблюдений'.\n",
    "      format(df.loc[df.Rating < 4.0].shape[0], round(df.loc[df.Rating < 4.0].shape[0] / df.shape[0],1)*100))"
   ]
  },
  {
   "cell_type": "markdown",
   "id": "5ed0daf1",
   "metadata": {},
   "source": [
    "Я, конечно, преполагал, что рейтинг не будет симметричен так как представлял изначально (думалось что будет что-то похожее на нормальное распределение если так можно сказать, но с центром в 3,4-3,6 (на и соответственно симметричное относительно центра)). Но что он будет так смещен в сторону высоких оценок слегка удивляет."
   ]
  },
  {
   "cell_type": "markdown",
   "id": "05f72dfb",
   "metadata": {},
   "source": [
    "Стало интересно зависит ли рейтинг приложения от того является ли оно платным. И как показывает график ниже, различия есть (рейтинг платных приложений смещен в сторону более высоких оценок, но по большосу счету смещение незначительное)."
   ]
  },
  {
   "cell_type": "code",
   "execution_count": 50,
   "id": "1345a99a",
   "metadata": {},
   "outputs": [
    {
     "data": {
      "image/png": "[encoded data removed]",
      "text/plain": [
       "<Figure size 417.125x360 with 1 Axes>"
      ]
     },
     "metadata": {
      "needs_background": "light"
     },
     "output_type": "display_data"
    }
   ],
   "source": [
    "sns.displot({\n",
    "        \"Free\": df[df.Type == 'Free'].Rating,\n",
    "        \"Paid\": df[df.Type == 'Paid'].Rating\n",
    "    },\n",
    "    kind = \"kde\",\n",
    "    common_norm = False # независимая нормализация каждого подмножества\n",
    ")\n",
    "\n",
    "plt.title('Rating', fontsize=20)\n",
    "plt.xlabel('Rating', fontsize=14)\n",
    "plt.ylabel('Dentsity', fontsize=14)\n",
    "\n",
    "plt.xticks(fontsize=14)\n",
    "plt.yticks(fontsize=14);"
   ]
  },
  {
   "cell_type": "code",
   "execution_count": 52,
   "id": "163b6e82",
   "metadata": {},
   "outputs": [
    {
     "data": {
      "image/png": "[encoded data removed]",
      "text/plain": [
       "<Figure size 1080x504 with 1 Axes>"
      ]
     },
     "metadata": {
      "needs_background": "light"
     },
     "output_type": "display_data"
    }
   ],
   "source": [
    "# Выберем приложения с оценкой более 3,6 и посмотрим на зависимости рейтинга от \"платности\"\n",
    "df_rating_type = df.loc[df.Rating > 3.6]\n",
    "\n",
    "plt.figure(figsize=(15, 7))\n",
    "\n",
    "educ_def = (df_rating_type.groupby(['Type'])['Rating']\n",
    "            .value_counts(normalize=True)\n",
    "            .rename('percentage')\n",
    "            .mul(100)\n",
    "            .reset_index()\n",
    "            .sort_values('Rating'))\n",
    "\n",
    "ax = sns.barplot(x=\"Rating\", y=\"percentage\", hue=\"Type\", data=educ_def)\n",
    "\n",
    "for p in ax.patches:\n",
    "    percentage = '{:.1f}%'.format(p.get_height())\n",
    "    ax.annotate(percentage,  # текст\n",
    "                (p.get_x() + p.get_width() / 2., p.get_height()),  # координата xy\n",
    "                ha='center',  # центрирование\n",
    "                va='center',\n",
    "                xytext=(0, 10),\n",
    "                textcoords='offset points',  # точка смещения относительно координаты\n",
    "                fontsize=14)\n",
    "\n",
    "plt.title('Rating-Type', fontsize=20)\n",
    "plt.ylabel('Count', fontsize=14)\n",
    "plt.xlabel('Rating', fontsize=14)\n",
    "\n",
    "plt.xticks(fontsize=14)\n",
    "plt.yticks(fontsize=14);"
   ]
  },
  {
   "cell_type": "markdown",
   "id": "8b186d9c",
   "metadata": {},
   "source": [
    "Хотя вот этот график показывает уже больше интересной информации. Мы видим, что рейтинг бесплатных приложений \"растет\" до 4.3, после чего идет на снижение. А у платных рейтинг держится на 4.4-4.6 (достигая максимума (по кол-ву приложений) в позиции рейтинга - 4.6)."
   ]
  },
  {
   "cell_type": "code",
   "execution_count": 59,
   "id": "eba9d155",
   "metadata": {},
   "outputs": [
    {
     "data": {
      "image/png": "[encoded data removed]",
      "text/plain": [
       "<Figure size 1080x504 with 1 Axes>"
      ]
     },
     "metadata": {
      "needs_background": "light"
     },
     "output_type": "display_data"
    }
   ],
   "source": [
    "df_rating_type = df.loc[df.Rating > 3.6]\n",
    "\n",
    "plt.figure(figsize=(15, 7))\n",
    "\n",
    "educ_def = (df_rating_type.groupby(['tracking'])['Rating']\n",
    "            .value_counts(normalize=True)\n",
    "            .rename('percentage')\n",
    "            .mul(100)\n",
    "            .reset_index()\n",
    "            .sort_values('Rating'))\n",
    "\n",
    "ax = sns.barplot(x=\"Rating\", y=\"percentage\", hue=\"tracking\", data=educ_def)\n",
    "\n",
    "for p in ax.patches:\n",
    "    percentage = '{:.1f}%'.format(p.get_height())\n",
    "    ax.annotate(percentage,  # текст\n",
    "                (p.get_x() + p.get_width() / 2., p.get_height()),  # координата xy\n",
    "                ha='center',  # центрирование\n",
    "                va='center',\n",
    "                xytext=(0, 10),\n",
    "                textcoords='offset points',  # точка смещения относительно координаты\n",
    "                fontsize=14)\n",
    "\n",
    "plt.title('Tracking-Type', fontsize=20)\n",
    "plt.ylabel('Count', fontsize=14)\n",
    "plt.xlabel('Tracking', fontsize=14)\n",
    "\n",
    "plt.xticks(fontsize=14)\n",
    "plt.yticks(fontsize=14);"
   ]
  },
  {
   "cell_type": "markdown",
   "id": "70dd26c5",
   "metadata": {},
   "source": [
    "Не уверен, что это связано настолько напрямую, наверняка есть сопутствующие факторы, но любопытно заметить, что приложения, где разработчики мало следят за приложением (не выпускают обновления более года), у этих приложений рейтинг ниже. А соответственно, где выпскаются обновления хотя бы раз в год, рейтинг заметноо выше."
   ]
  },
  {
   "cell_type": "code",
   "execution_count": 60,
   "id": "77407f4c",
   "metadata": {},
   "outputs": [
    {
     "data": {
      "image/png": "[encoded data removed]",
      "text/plain": [
       "<Figure size 1080x504 with 1 Axes>"
      ]
     },
     "metadata": {
      "needs_background": "light"
     },
     "output_type": "display_data"
    }
   ],
   "source": [
    "norm_target = (df\n",
    "               .Type\n",
    "               .value_counts(normalize=True)\n",
    "               .mul(100)\n",
    "               .rename('percent')\n",
    "               .reset_index())\n",
    "\n",
    "plt.figure(figsize=(15, 7))\n",
    "ax = sns.barplot(x='index', y='percent', data=norm_target)\n",
    "\n",
    "for p in ax.patches:\n",
    "    percentage = '{:.1f}%'.format(p.get_height())\n",
    "    ax.annotate(percentage,\n",
    "                (p.get_x() + p.get_width() / 2., p.get_height()),\n",
    "                ha='center',\n",
    "                va='center',\n",
    "                xytext=(0, 10),\n",
    "                textcoords='offset points',\n",
    "                fontsize=14)\n",
    "\n",
    "plt.title('Dentsity of app dif type in data', fontsize=20)\n",
    "\n",
    "plt.xlabel('Type', fontsize=14)\n",
    "plt.ylabel('Percent', fontsize=14)\n",
    "\n",
    "plt.xticks(fontsize=14)\n",
    "plt.yticks(fontsize=14);"
   ]
  },
  {
   "cell_type": "markdown",
   "id": "b4831c13",
   "metadata": {},
   "source": [
    "Наверное, с этого графика столило начать. В принципе посмотреть на распределение данных по категории. Хоть это никак не влияет на графики/данные рассмотренные ранее, но к сведению примем, что платные приложения всего 7.7% от всей выборки."
   ]
  },
  {
   "cell_type": "code",
   "execution_count": 93,
   "id": "275ad8ff",
   "metadata": {},
   "outputs": [
    {
     "data": {
      "image/png": "[encoded data removed]",
      "text/plain": [
       "<Figure size 432x432 with 1 Axes>"
      ]
     },
     "metadata": {},
     "output_type": "display_data"
    }
   ],
   "source": [
    "plt.figure(figsize=(6, 6))\n",
    "plt.pie(x=df['Content Rating'].value_counts(), autopct=\"%.2f\", labels = df['Content Rating'].unique())\n",
    "plt.title('Dentsity of app dif type of content rating in data', fontsize=15)\n",
    "plt.show()"
   ]
  },
  {
   "cell_type": "code",
   "execution_count": 90,
   "id": "e8ee102f",
   "metadata": {},
   "outputs": [
    {
     "name": "stdout",
     "output_type": "stream",
     "text": [
      "<class 'pandas.core.frame.DataFrame'>\n",
      "Int64Index: 9644 entries, 0 to 10840\n",
      "Data columns (total 13 columns):\n",
      " #   Column             Non-Null Count  Dtype  \n",
      "---  ------             --------------  -----  \n",
      " 0   App                9644 non-null   object \n",
      " 1   Category           9644 non-null   object \n",
      " 2   Rating             8196 non-null   float64\n",
      " 3   Reviews            9644 non-null   int32  \n",
      " 4   Size               9644 non-null   float64\n",
      " 5   Installs           9644 non-null   object \n",
      " 6   Type               9644 non-null   object \n",
      " 7   Price              9644 non-null   float64\n",
      " 8   Content Rating     9644 non-null   object \n",
      " 9   Genres             9644 non-null   object \n",
      " 10  Android Ver        9642 non-null   object \n",
      " 11  days_after_update  9644 non-null   int64  \n",
      " 12  tracking           9644 non-null   object \n",
      "dtypes: float64(3), int32(1), int64(1), object(8)\n",
      "memory usage: 1.2+ MB\n"
     ]
    }
   ],
   "source": [
    "df.info()"
   ]
  },
  {
   "cell_type": "code",
   "execution_count": 107,
   "id": "de89001f",
   "metadata": {},
   "outputs": [
    {
     "data": {
      "image/png": "[encoded data removed]",
      "text/plain": [
       "<Figure size 720x720 with 1 Axes>"
      ]
     },
     "metadata": {
      "needs_background": "light"
     },
     "output_type": "display_data"
    }
   ],
   "source": [
    "plt.figure(figsize=(10,10))\n",
    "sns.countplot(y = df['Android Ver'], order = df['Android Ver'].value_counts().index)\n",
    "plt.title('Count of app dif android ver in data', fontsize=15)\n",
    "plt.show()"
   ]
  },
  {
   "cell_type": "markdown",
   "id": "ee8f08ee",
   "metadata": {},
   "source": [
    "Как и было отмечено раньше, приложений, поддерживающихся более стареньким андроидом куда больше, чем приложений на свежую версию ОС. Так что, чтобы не терять потенциальных пользователей, разработчикам стоит как можно дольше оптимизировать свои приложения под ранние версии ОС."
   ]
  },
  {
   "cell_type": "code",
   "execution_count": 113,
   "id": "db31f8ac",
   "metadata": {},
   "outputs": [
    {
     "data": {
      "image/png": "[encoded data removed]",
      "text/plain": [
       "<Figure size 1080x504 with 1 Axes>"
      ]
     },
     "metadata": {
      "needs_background": "light"
     },
     "output_type": "display_data"
    }
   ],
   "source": [
    "df_rating_type = df.loc[df.Rating > 4][:100]\n",
    "\n",
    "plt.figure(figsize=(15, 7))\n",
    "\n",
    "educ_def = (df_rating_type.groupby(['Android Ver'])['Installs']\n",
    "            .value_counts(normalize=True)\n",
    "            .rename('percentage')\n",
    "            .mul(100)\n",
    "            .reset_index()\n",
    "            .sort_values('Installs'))\n",
    "\n",
    "ax = sns.barplot(x=\"Installs\", y=\"percentage\", hue=\"Android Ver\", data=educ_def)\n",
    "\n",
    "for p in ax.patches:\n",
    "    percentage = '{:.1f}%'.format(p.get_height())\n",
    "    ax.annotate(percentage,  # текст\n",
    "                (p.get_x() + p.get_width() / 2., p.get_height()),  # координата xy\n",
    "                ha='center',  # центрирование\n",
    "                va='center',\n",
    "                xytext=(0, 10),\n",
    "                textcoords='offset points',  # точка смещения относительно координаты\n",
    "                fontsize=14)\n",
    "\n",
    "plt.title('Android ver-Installs', fontsize=20)\n",
    "plt.ylabel('Count', fontsize=14)\n",
    "plt.xlabel('Installs', fontsize=14)\n",
    "\n",
    "plt.xticks(fontsize=14)\n",
    "plt.yticks(fontsize=14);"
   ]
  },
  {
   "cell_type": "markdown",
   "id": "22a8f9d7",
   "metadata": {},
   "source": [
    "Может не самый репрезентативный график, так как я беру не все подходящие под условие(большой рейтинг) записи. Но на мой взгляд все равно очень показательный. Приложения с большим рейтингом и скачиваниями (что потенциально приносит прибыль) поддерживаются самыми ранними версиями андроида (некоторые из них выходили более 10 лет назад)."
   ]
  },
  {
   "cell_type": "markdown",
   "id": "9af8b77c",
   "metadata": {},
   "source": [
    "### Вывод\n",
    "\n",
    "Я рассмотрел открытй набор данных, содержащий информацию о приложениях из разных категорий, с разными параметрами, которые можно скачать из Play Market. Данные были обработаны: ненужные удалены; проведен небольшой fe, добавил несколько колонок на основании имеющихся данных, которые впоследствии использовал; построил графики различных типов для наглядного представления данных. \n",
    "\n",
    "Мной были выдвинуты несколько гипотез (с точки зрения простого пользователя), часть из них была опровергнута, часть подтвердилась.\n",
    "\n",
    "Что сделать не удалось: в данных остались пропуски. К их заполнению применимы разные алгоритмы, один из которых это построение логистичееской регрессии на имеющихся данных для заполнения пропусков. В принципе могу предположить, что можно создать еще какие-то дополнительный фичи из имеющихся для дальнейшего анализа.\n",
    "\n",
    "Какие гипотезы глобальней я бы мог выделить: с этими данными были выгружены отзывы пользователей обо всех представленных приложениях, можно было бы их обработать, чтобы выявить какие-то паттерны (более чем уверен, что они есть (наподобие того: есть ли свзяь между длиной отзыва и рейтингом, выявить пол комментатора и посмотреть есть ли связь между полом комментатора и рейтингом который он оставляет); можно было бы попробовать оценить \"сезонность\" приложений, когда происходит и происходит ли вообще пик комментариев/оставления оценок за год, попробовать выяснить почему это происходит). "
   ]
  },
  {
   "cell_type": "code",
   "execution_count": null,
   "id": "2030f8ce",
   "metadata": {},
   "outputs": [],
   "source": []
  }
 ],
 "metadata": {
  "kernelspec": {
   "display_name": "Python 3 (ipykernel)",
   "language": "python",
   "name": "python3"
  },
  "language_info": {
   "codemirror_mode": {
    "name": "ipython",
    "version": 3
   },
   "file_extension": ".py",
   "mimetype": "text/x-python",
   "name": "python",
   "nbconvert_exporter": "python",
   "pygments_lexer": "ipython3",
   "version": "3.8.11"
  }
 },
 "nbformat": 4,
 "nbformat_minor": 5
}
