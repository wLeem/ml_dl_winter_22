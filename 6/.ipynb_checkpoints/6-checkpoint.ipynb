{
 "cells": [
  {
   "cell_type": "code",
   "execution_count": 1,
   "id": "a7de6180",
   "metadata": {},
   "outputs": [
    {
     "name": "stdout",
     "output_type": "stream",
     "text": [
      "pygame 2.1.2 (SDL 2.0.18, Python 3.8.11)\n",
      "Hello from the pygame community. https://www.pygame.org/contribute.html\n"
     ]
    }
   ],
   "source": [
    "import numpy as np\n",
    "import pandas as pd\n",
    "import pygame\n",
    "from pygame.locals import *\n",
    "import random\n",
    "import sys"
   ]
  },
  {
   "cell_type": "markdown",
   "id": "c3532b61",
   "metadata": {},
   "source": [
    "### Реализация игры \"Жизнь\""
   ]
  },
  {
   "cell_type": "code",
   "execution_count": 2,
   "id": "535f901e",
   "metadata": {},
   "outputs": [],
   "source": [
    "class Cell:\n",
    "    \"\"\"\n",
    "    Класс \"Клетка\" - самый \"мальнький\" класс, имеет: координаты на поле,\n",
    "                                                     флаг - живая клетка или нет,\n",
    "                                                     кол-во соседей \n",
    "    \"\"\"\n",
    "    def __init__(self, x, y, living):\n",
    "        self.x = x\n",
    "        self.y = y\n",
    "        self.living = living\n",
    "        self.neighbour_count = 0\n",
    "\n",
    "    def count_the_amount_neighbour(self):\n",
    "        \"\"\"\n",
    "        Функция подсчета кол-ва соседей\n",
    "        Возвращает: кол-во соседей\n",
    "        Так как есть координаты самой клетки, можем обойти ее соседей на клеточном поле\n",
    "        \"\"\"\n",
    "        count = 0\n",
    "        if self.x > 0:\n",
    "            x_begin = self.x - 1\n",
    "        else:\n",
    "            x_begin = 0\n",
    "            \n",
    "        for i in range(x_begin, self.x + 2):\n",
    "            if self.y > 0:\n",
    "                y_begin = self.y - 1\n",
    "            else:\n",
    "                y_begin = 0\n",
    "                \n",
    "            for j in range(y_begin, self.y + 2):\n",
    "                if i == self.x and j == self.y:\n",
    "                    continue\n",
    "                if i < 0 or j < 0 or i >= CellGrid.grid_x or j >= CellGrid.grid_y:\n",
    "                    continue\n",
    "                count += int(CellGrid.cells[i][j].living)\n",
    "                \n",
    "        self.neighbour_count = count\n",
    "        return count\n",
    "\n",
    "    def live_or_die(self):\n",
    "        \"\"\"\n",
    "        Функция проверки кол-ва соседей, определяет будет ли клетка живой на след. этапе\n",
    "        \"\"\"\n",
    "        if self.neighbour_count > 3 or self.neighbour_count < 2:\n",
    "            self.living = False\n",
    "        elif self.neighbour_count == 3:\n",
    "            self.living = True\n",
    "        elif self.neighbour_count == 2:\n",
    "            self.living = True"
   ]
  },
  {
   "cell_type": "code",
   "execution_count": 3,
   "id": "dc64d172",
   "metadata": {},
   "outputs": [],
   "source": [
    "class CellGrid:\n",
    "    \"\"\"\n",
    "    Класс - \"Клеточное поле\"\n",
    "    Cells - массив массивов клеток\n",
    "    \"\"\"\n",
    "    cells = []\n",
    "    grid_x = 0\n",
    "    grid_y = 0\n",
    "\n",
    "    def __init__(self, grid_x, grid_y):\n",
    "        \"\"\"\n",
    "        Случайно инициализируем клеточное поле, т.е. определяем какие клетки будут живые в исх. состоянии\n",
    "        \"\"\"\n",
    "        CellGrid.grid_x = grid_x\n",
    "        CellGrid.grid_y = grid_y\n",
    "        for i in range(grid_x):\n",
    "            cell_list = []\n",
    "            for j in range(grid_y):\n",
    "                cell = Cell(i, j, random.random() > 0.5)\n",
    "                cell_list.append(cell)\n",
    "            CellGrid.cells.append(cell_list)\n",
    "\n",
    "    def check_rule(self):\n",
    "        for cell_list in CellGrid.cells:\n",
    "            for item in cell_list:\n",
    "                item.live_or_die()\n",
    "\n",
    "    def check_neighbour(self):\n",
    "        for cell_list in CellGrid.cells:\n",
    "            for item in cell_list:\n",
    "                item.count_the_amount_neighbour()"
   ]
  },
  {
   "cell_type": "code",
   "execution_count": 4,
   "id": "02049b5f",
   "metadata": {},
   "outputs": [],
   "source": [
    "class Game:\n",
    "    \"\"\"\n",
    "    Класс - \"Игра\"\n",
    "    \"\"\"\n",
    "    screen = None\n",
    "\n",
    "    def __init__(self, width, height, cx, cy):\n",
    "        self.width = width\n",
    "        self.height = height\n",
    "        self.cx_rate = int((width - 2*width_of_edge) / cx)\n",
    "        self.cy_rate = int((height - 2*width_of_edge) / cy)\n",
    "        self.screen = pygame.display.set_mode([width, height])\n",
    "        self.cells = CellGrid(cx, cy)\n",
    "\n",
    "    def show_life(self):\n",
    "        for i in range(self.cells.grid_x + 1):\n",
    "            pygame.draw.line(self.screen, color_of_life, (x_starting, y_starting + i * self.cy_rate),\n",
    "                             (x_starting + self.cells.grid_x * self.cx_rate, y_starting + i * self.cy_rate), width_of_line)\n",
    "            pygame.draw.line(self.screen, color_of_life, (x_starting + i * self.cx_rate, y_starting),\n",
    "                             (x_starting + i * self.cx_rate, y_starting + self.cells.grid_x * self.cy_rate), width_of_line)\n",
    "\n",
    "        for cell_list in self.cells.cells:\n",
    "            for item in cell_list:\n",
    "                x = item.x\n",
    "                y = item.y\n",
    "                if item.living:\n",
    "                    pygame.draw.rect(self.screen, color_of_life,\n",
    "                                     [x_starting + x * self.cx_rate + (width_of_line - 1),\n",
    "                                      y_starting + y * self.cy_rate + (width_of_line - 1),\n",
    "                                      self.cx_rate - width_of_line, self.cy_rate - width_of_line])"
   ]
  },
  {
   "cell_type": "code",
   "execution_count": 5,
   "id": "8335096c",
   "metadata": {},
   "outputs": [],
   "source": [
    "def main():\n",
    "    pygame.init()\n",
    "    pygame.display.set_caption(\"Game of Life\")\n",
    "    game = Game(500, 500, 20, 20)\n",
    "\n",
    "    clock = pygame.time.Clock()\n",
    "    while True:\n",
    "        game.screen.fill(Back_Groung)\n",
    "        clock.tick(2)\n",
    "        for event in pygame.event.get():\n",
    "            if event.type == pygame.QUIT:\n",
    "                sys.exit()\n",
    "\n",
    "        game.cells.check_neighbour()\n",
    "        game.cells.check_rule()\n",
    "\n",
    "        game.show_life()\n",
    "        pygame.display.flip()"
   ]
  },
  {
   "cell_type": "code",
   "execution_count": 6,
   "id": "3d61cad1",
   "metadata": {},
   "outputs": [],
   "source": [
    "Back_Groung = (255, 255, 255)\n",
    "color_of_life = (0, 255, 0)\n",
    "color_of_line = (0, 0, 0)\n",
    "width_of_line = 3\n",
    "width_of_edge = 20\n",
    "x_starting = 20\n",
    "y_starting = 20"
   ]
  },
  {
   "cell_type": "code",
   "execution_count": 7,
   "id": "740d7919",
   "metadata": {},
   "outputs": [
    {
     "ename": "SystemExit",
     "evalue": "",
     "output_type": "error",
     "traceback": [
      "An exception has occurred, use %tb to see the full traceback.\n",
      "\u001b[1;31mSystemExit\u001b[0m\n"
     ]
    },
    {
     "name": "stderr",
     "output_type": "stream",
     "text": [
      "C:\\Anaconda\\lib\\site-packages\\IPython\\core\\interactiveshell.py:3449: UserWarning: To exit: use 'exit', 'quit', or Ctrl-D.\n",
      "  warn(\"To exit: use 'exit', 'quit', or Ctrl-D.\", stacklevel=1)\n"
     ]
    }
   ],
   "source": [
    "main()"
   ]
  },
  {
   "cell_type": "markdown",
   "id": "a4099508",
   "metadata": {},
   "source": [
    "Было бы еще неплохо реализовать возможность самостоятельно задавать начальное положение живых клеток, а не делать это рандомно. Но с реализацией этого возникли некоторые трудности. "
   ]
  },
  {
   "cell_type": "code",
   "execution_count": null,
   "id": "edaca031",
   "metadata": {},
   "outputs": [],
   "source": []
  },
  {
   "cell_type": "code",
   "execution_count": null,
   "id": "5b3bac7e",
   "metadata": {},
   "outputs": [],
   "source": []
  },
  {
   "cell_type": "code",
   "execution_count": null,
   "id": "13f28617",
   "metadata": {},
   "outputs": [],
   "source": []
  },
  {
   "cell_type": "code",
   "execution_count": null,
   "id": "816ece7a",
   "metadata": {},
   "outputs": [],
   "source": []
  },
  {
   "cell_type": "code",
   "execution_count": null,
   "id": "7dc4ac86",
   "metadata": {},
   "outputs": [],
   "source": []
  },
  {
   "cell_type": "code",
   "execution_count": null,
   "id": "0e5e3cb8",
   "metadata": {},
   "outputs": [],
   "source": []
  },
  {
   "cell_type": "code",
   "execution_count": null,
   "id": "16c5af6d",
   "metadata": {},
   "outputs": [],
   "source": []
  },
  {
   "cell_type": "code",
   "execution_count": null,
   "id": "3a8ca58a",
   "metadata": {},
   "outputs": [],
   "source": []
  },
  {
   "cell_type": "code",
   "execution_count": null,
   "id": "92c22ac2",
   "metadata": {},
   "outputs": [],
   "source": []
  },
  {
   "cell_type": "code",
   "execution_count": null,
   "id": "0e20109c",
   "metadata": {},
   "outputs": [],
   "source": []
  },
  {
   "cell_type": "code",
   "execution_count": null,
   "id": "3ea89c6e",
   "metadata": {},
   "outputs": [],
   "source": []
  },
  {
   "cell_type": "code",
   "execution_count": null,
   "id": "76013e62",
   "metadata": {},
   "outputs": [],
   "source": []
  }
 ],
 "metadata": {
  "kernelspec": {
   "display_name": "Python 3 (ipykernel)",
   "language": "python",
   "name": "python3"
  },
  "language_info": {
   "codemirror_mode": {
    "name": "ipython",
    "version": 3
   },
   "file_extension": ".py",
   "mimetype": "text/x-python",
   "name": "python",
   "nbconvert_exporter": "python",
   "pygments_lexer": "ipython3",
   "version": "3.8.11"
  }
 },
 "nbformat": 4,
 "nbformat_minor": 5
}
